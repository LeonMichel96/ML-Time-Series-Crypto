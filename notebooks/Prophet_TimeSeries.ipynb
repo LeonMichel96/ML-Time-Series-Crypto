{
 "cells": [
  {
   "cell_type": "markdown",
   "id": "ce52594a",
   "metadata": {},
   "source": [
    "# Crypto Currency Time Series Project"
   ]
  },
  {
   "cell_type": "markdown",
   "id": "877759f2",
   "metadata": {},
   "source": [
    "This notebook aims to deliver a tuned Prophet model capable of predicting price values of some of the most famous  \n",
    "crypto currencies based on the past data"
   ]
  },
  {
   "cell_type": "code",
   "execution_count": 1,
   "id": "c681ce7e",
   "metadata": {},
   "outputs": [],
   "source": [
    "import requests\n",
    "import datetime\n",
    "import pandas as pd\n",
    "import numpy as np\n",
    "import matplotlib.pyplot as plt\n",
    "import seaborn as sns\n",
    "from sklearn.metrics import mean_absolute_percentage_error\n",
    "\n",
    "from prophet import Prophet\n",
    "from prophet.diagnostics import cross_validation, performance_metrics\n",
    "from prophet.plot import plot_cross_validation_metric"
   ]
  },
  {
   "cell_type": "markdown",
   "id": "6a674969",
   "metadata": {},
   "source": [
    "# Define API Params"
   ]
  },
  {
   "cell_type": "markdown",
   "id": "1472b318",
   "metadata": {},
   "source": [
    "First define the coin to predict, actual date and a past date of n years in the past.   \n",
    "Lastly define other API params such as currency and number of decimals."
   ]
  },
  {
   "cell_type": "code",
   "execution_count": 2,
   "id": "844c9671",
   "metadata": {},
   "outputs": [],
   "source": [
    "coin = 'ethereum'"
   ]
  },
  {
   "cell_type": "code",
   "execution_count": 3,
   "id": "3e17dbd4",
   "metadata": {},
   "outputs": [],
   "source": [
    "url = f'https://api.coingecko.com/api/v3/coins/{coin}/market_chart/range'"
   ]
  },
  {
   "cell_type": "code",
   "execution_count": 4,
   "id": "20a30929",
   "metadata": {},
   "outputs": [],
   "source": [
    "years = 2"
   ]
  },
  {
   "cell_type": "code",
   "execution_count": 5,
   "id": "dfe9074f",
   "metadata": {},
   "outputs": [],
   "source": [
    "today = int(datetime.datetime.now().timestamp())"
   ]
  },
  {
   "cell_type": "code",
   "execution_count": 6,
   "id": "ddb23d1a",
   "metadata": {},
   "outputs": [],
   "source": [
    "past_date = int((datetime.datetime.now() - datetime.timedelta(days=365 * years)).timestamp())"
   ]
  },
  {
   "cell_type": "code",
   "execution_count": 7,
   "id": "b1b995e7",
   "metadata": {},
   "outputs": [],
   "source": [
    "params = {'vs_currency': 'usd',\n",
    "          'from': past_date,\n",
    "          'to': today,\n",
    "          'precision': 2}"
   ]
  },
  {
   "cell_type": "code",
   "execution_count": 8,
   "id": "99aa88c5",
   "metadata": {},
   "outputs": [],
   "source": [
    "response = requests.get(url, params=params).json()"
   ]
  },
  {
   "cell_type": "code",
   "execution_count": 9,
   "id": "06d2d8d7",
   "metadata": {},
   "outputs": [
    {
     "data": {
      "text/html": [
       "<div>\n",
       "<style scoped>\n",
       "    .dataframe tbody tr th:only-of-type {\n",
       "        vertical-align: middle;\n",
       "    }\n",
       "\n",
       "    .dataframe tbody tr th {\n",
       "        vertical-align: top;\n",
       "    }\n",
       "\n",
       "    .dataframe thead th {\n",
       "        text-align: right;\n",
       "    }\n",
       "</style>\n",
       "<table border=\"1\" class=\"dataframe\">\n",
       "  <thead>\n",
       "    <tr style=\"text-align: right;\">\n",
       "      <th></th>\n",
       "      <th>Timestamp</th>\n",
       "      <th>Price</th>\n",
       "    </tr>\n",
       "  </thead>\n",
       "  <tbody>\n",
       "    <tr>\n",
       "      <th>0</th>\n",
       "      <td>1637193600000</td>\n",
       "      <td>4302.80</td>\n",
       "    </tr>\n",
       "    <tr>\n",
       "      <th>1</th>\n",
       "      <td>1637280000000</td>\n",
       "      <td>3993.85</td>\n",
       "    </tr>\n",
       "    <tr>\n",
       "      <th>2</th>\n",
       "      <td>1637366400000</td>\n",
       "      <td>4317.60</td>\n",
       "    </tr>\n",
       "    <tr>\n",
       "      <th>3</th>\n",
       "      <td>1637452800000</td>\n",
       "      <td>4436.19</td>\n",
       "    </tr>\n",
       "    <tr>\n",
       "      <th>4</th>\n",
       "      <td>1637539200000</td>\n",
       "      <td>4319.36</td>\n",
       "    </tr>\n",
       "  </tbody>\n",
       "</table>\n",
       "</div>"
      ],
      "text/plain": [
       "       Timestamp    Price\n",
       "0  1637193600000  4302.80\n",
       "1  1637280000000  3993.85\n",
       "2  1637366400000  4317.60\n",
       "3  1637452800000  4436.19\n",
       "4  1637539200000  4319.36"
      ]
     },
     "execution_count": 9,
     "metadata": {},
     "output_type": "execute_result"
    }
   ],
   "source": [
    "df = pd.DataFrame(response[\"prices\"], columns=[\"Timestamp\", \"Price\"])\n",
    "df.head()"
   ]
  },
  {
   "cell_type": "markdown",
   "id": "d935022c",
   "metadata": {},
   "source": [
    "# Data Cleaning "
   ]
  },
  {
   "cell_type": "markdown",
   "id": "3bb9e1dc",
   "metadata": {},
   "source": [
    "Change the date table to a more human readable format, from Timestamp to yyyy-mm-dd"
   ]
  },
  {
   "cell_type": "code",
   "execution_count": 10,
   "id": "96f1195e",
   "metadata": {},
   "outputs": [],
   "source": [
    "df['Date']= df['Timestamp'].apply(lambda x: datetime.datetime.fromtimestamp(x/1000).strftime(\"%Y-%m-%d\"))"
   ]
  },
  {
   "cell_type": "code",
   "execution_count": 11,
   "id": "282f63ea",
   "metadata": {},
   "outputs": [],
   "source": [
    "df['Timestamp'] = df['Date']"
   ]
  },
  {
   "cell_type": "code",
   "execution_count": 12,
   "id": "1065642a",
   "metadata": {},
   "outputs": [],
   "source": [
    "df.drop(columns=['Date'], inplace=True)"
   ]
  },
  {
   "cell_type": "code",
   "execution_count": 13,
   "id": "255e1289",
   "metadata": {},
   "outputs": [],
   "source": [
    "df.rename(columns={'Timestamp': 'Date'}, inplace=True)"
   ]
  },
  {
   "cell_type": "code",
   "execution_count": 14,
   "id": "0e9515f8",
   "metadata": {},
   "outputs": [],
   "source": [
    "df['Date']=pd.to_datetime(df['Date'])"
   ]
  },
  {
   "cell_type": "code",
   "execution_count": 15,
   "id": "6c0a9007",
   "metadata": {},
   "outputs": [
    {
     "data": {
      "text/html": [
       "<div>\n",
       "<style scoped>\n",
       "    .dataframe tbody tr th:only-of-type {\n",
       "        vertical-align: middle;\n",
       "    }\n",
       "\n",
       "    .dataframe tbody tr th {\n",
       "        vertical-align: top;\n",
       "    }\n",
       "\n",
       "    .dataframe thead th {\n",
       "        text-align: right;\n",
       "    }\n",
       "</style>\n",
       "<table border=\"1\" class=\"dataframe\">\n",
       "  <thead>\n",
       "    <tr style=\"text-align: right;\">\n",
       "      <th></th>\n",
       "      <th>Date</th>\n",
       "      <th>Price</th>\n",
       "    </tr>\n",
       "  </thead>\n",
       "  <tbody>\n",
       "    <tr>\n",
       "      <th>0</th>\n",
       "      <td>2021-11-17</td>\n",
       "      <td>4302.80</td>\n",
       "    </tr>\n",
       "    <tr>\n",
       "      <th>1</th>\n",
       "      <td>2021-11-18</td>\n",
       "      <td>3993.85</td>\n",
       "    </tr>\n",
       "    <tr>\n",
       "      <th>2</th>\n",
       "      <td>2021-11-19</td>\n",
       "      <td>4317.60</td>\n",
       "    </tr>\n",
       "    <tr>\n",
       "      <th>3</th>\n",
       "      <td>2021-11-20</td>\n",
       "      <td>4436.19</td>\n",
       "    </tr>\n",
       "    <tr>\n",
       "      <th>4</th>\n",
       "      <td>2021-11-21</td>\n",
       "      <td>4319.36</td>\n",
       "    </tr>\n",
       "  </tbody>\n",
       "</table>\n",
       "</div>"
      ],
      "text/plain": [
       "        Date    Price\n",
       "0 2021-11-17  4302.80\n",
       "1 2021-11-18  3993.85\n",
       "2 2021-11-19  4317.60\n",
       "3 2021-11-20  4436.19\n",
       "4 2021-11-21  4319.36"
      ]
     },
     "execution_count": 15,
     "metadata": {},
     "output_type": "execute_result"
    }
   ],
   "source": [
    "df.head()"
   ]
  },
  {
   "cell_type": "code",
   "execution_count": 16,
   "id": "fdd5d966",
   "metadata": {},
   "outputs": [
    {
     "data": {
      "text/plain": [
       "Date     datetime64[ns]\n",
       "Price           float64\n",
       "dtype: object"
      ]
     },
     "execution_count": 16,
     "metadata": {},
     "output_type": "execute_result"
    }
   ],
   "source": [
    "df.dtypes"
   ]
  },
  {
   "cell_type": "code",
   "execution_count": 17,
   "id": "da04f38b",
   "metadata": {},
   "outputs": [
    {
     "data": {
      "text/plain": [
       "<AxesSubplot:title={'center':'ethereum trend'}, xlabel='Date', ylabel='Price'>"
      ]
     },
     "execution_count": 17,
     "metadata": {},
     "output_type": "execute_result"
    },
    {
     "data": {
      "image/png": "[encoded data removed]",
      "text/plain": [
       "<Figure size 1000x500 with 1 Axes>"
      ]
     },
     "metadata": {},
     "output_type": "display_data"
    }
   ],
   "source": [
    "plt.figure(figsize=(10,5))\n",
    "plt.title(f'{coin} trend')\n",
    "sns.lineplot(data=df, x='Date', y='Price')"
   ]
  },
  {
   "cell_type": "markdown",
   "id": "a615f5a2",
   "metadata": {},
   "source": [
    "# Prophet Model"
   ]
  },
  {
   "cell_type": "code",
   "execution_count": null,
   "id": "5ceb4aac",
   "metadata": {},
   "outputs": [],
   "source": []
  }
 ],
 "metadata": {
  "kernelspec": {
   "display_name": "Python 3 (ipykernel)",
   "language": "python",
   "name": "python3"
  },
  "language_info": {
   "codemirror_mode": {
    "name": "ipython",
    "version": 3
   },
   "file_extension": ".py",
   "mimetype": "text/x-python",
   "name": "python",
   "nbconvert_exporter": "python",
   "pygments_lexer": "ipython3",
   "version": "3.10.6"
  },
  "toc": {
   "base_numbering": 1,
   "nav_menu": {},
   "number_sections": true,
   "sideBar": true,
   "skip_h1_title": false,
   "title_cell": "Table of Contents",
   "title_sidebar": "Contents",
   "toc_cell": false,
   "toc_position": {},
   "toc_section_display": true,
   "toc_window_display": false
  }
 },
 "nbformat": 4,
 "nbformat_minor": 5
}
